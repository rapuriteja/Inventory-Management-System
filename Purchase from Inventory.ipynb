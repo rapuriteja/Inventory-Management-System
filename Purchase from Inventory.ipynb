{
 "cells": [
  {
   "cell_type": "code",
   "execution_count": 1,
   "id": "18926fe1",
   "metadata": {},
   "outputs": [],
   "source": [
    "import json\n",
    "import time"
   ]
  },
  {
   "cell_type": "code",
   "execution_count": 2,
   "id": "fa75f521",
   "metadata": {},
   "outputs": [],
   "source": [
    "fd=open(\"records.json\",\"r\")\n",
    "txt=fd.read()\n",
    "fd.close()"
   ]
  },
  {
   "cell_type": "code",
   "execution_count": 3,
   "id": "4b330f40",
   "metadata": {},
   "outputs": [],
   "source": [
    "record=json.loads(txt)"
   ]
  },
  {
   "cell_type": "code",
   "execution_count": 4,
   "id": "6aefa74b",
   "metadata": {},
   "outputs": [],
   "source": [
    "list_for_tracking_sales=[]"
   ]
  },
  {
   "cell_type": "code",
   "execution_count": 5,
   "id": "94d48561",
   "metadata": {},
   "outputs": [
    {
     "name": "stdout",
     "output_type": "stream",
     "text": [
      "Enter name of Customer:teja\n",
      "Enter the no.of Items teja wants to buy:5\n"
     ]
    }
   ],
   "source": [
    "customer_name=input(\"Enter name of Customer:\")\n",
    "n=int(input(f\"Enter the no.of Items {customer_name} wants to buy:\"))"
   ]
  },
  {
   "cell_type": "code",
   "execution_count": 6,
   "id": "27599340",
   "metadata": {},
   "outputs": [
    {
     "name": "stdout",
     "output_type": "stream",
     "text": [
      "Enter Product Id: 1002\n",
      "Enter Product quantity: 5\n",
      "Enter Product Id: 1014\n",
      "Enter Product quantity: 12\n",
      "Enter Product Id: 1030\n",
      "Enter Product quantity: 15\n",
      "Enter Product Id: 1012\n",
      "Enter Product quantity: 1\n",
      "Enter Product Id: 1010\n",
      "Enter Product quantity: 12\n",
      "Enter Product Id: 1011\n",
      "Enter Product quantity: 14\n"
     ]
    }
   ],
   "source": [
    "local_time=time.ctime()\n",
    "\n",
    "itemno=0\n",
    "totalbill=0\n",
    "while (itemno<=n):\n",
    "    product_id= int(input(\"Enter Product Id: \"))\n",
    "    product_quantity=int(input(\"Enter Product quantity: \"))\n",
    "\n",
    "    name=(record[str(product_id)][\"Name\"])\n",
    "    price=record[str(product_id)][\"Price\"]\n",
    "    quant=record[str(product_id)][\"Quantity\"]\n",
    "    for it in range(0,product_quantity):\n",
    "        list_for_tracking_sales.append(product_id)\n",
    "        \n",
    "    if(product_quantity<=(record[str(product_id)][\"Quantity\"])):\n",
    "        record[str(product_id)][\"Quantity\"]=(record[str(product_id)][\"Quantity\"])-product_quantity\n",
    "        item_cost=(record[str(product_id)][\"Price\"]*product_quantity)\n",
    "    \n",
    "        totalbill+=item_cost\n",
    "    \n",
    "    if(itemno==1):\n",
    "        bill=open(\"bill.txt\",\"w\")\n",
    "        bill.write(f\"{customer_name}\\t\\t\\t\\t\\t\\t\\t\")\n",
    "        bill.write(f\"{local_time}\\n\")\n",
    "\n",
    "\n",
    "        bill.write(\"***********************************************\\n\")\n",
    "        bill.write(\"Product Name\\t\\t\\t\\t\\t\")\n",
    "        bill.write(\"Price\\t\\t\\t\\t\\t\")\n",
    "        bill.write(\"Quantity\\t\\t\\t\\t\\t\")\n",
    "      \n",
    "        bill.write(\"Final amount\\n\")\n",
    "\n",
    "        bill.write(f\"{name}\\t\\t\\t\\t\\t\\t\\t\\t\")\n",
    "        bill.write(f\"{price}\\t\\t\\t\\t\\t\\t\\t\\t\")\n",
    "        bill.write(f\"{product_quantity}\\t\\t\\t\\t\\t\\t\\t\\t\")\n",
    "      \n",
    "        bill.write(f\"{item_cost}\\n\")\n",
    "        bill.close()\n",
    "    elif(itemno>1 and itemno<n):\n",
    "        bill=open(\"bill.txt\",\"a\")\n",
    "        bill.write(f\"{name}\\t\\t\\t\\t\\t\\t\\t\\t\")\n",
    "        bill.write(f\"{price}\\t\\t\\t\\t\\t\\t\\t\\t\\t\")\n",
    "        bill.write(f\"{product_quantity}\\t\\t\\t\\t\\t\\t\\t\\t\")\n",
    "     \n",
    "        bill.write(f\"{item_cost}\\n\")\n",
    "        bill.close()\n",
    "    else:\n",
    "        bill=open(\"bill.txt\",\"a\")\n",
    "        bill.write(f\"{name}\\t\\t\\t\\t\\t\\t\\t\\t\")\n",
    "        bill.write(f\"{price}\\t\\t\\t\\t\\t\\t\\t\\t\\t\")\n",
    "        bill.write(f\"{product_quantity}\\t\\t\\t\\t\\t\\t\\t\\t\")\n",
    "      \n",
    "        bill.write(f\"{item_cost}\\n\")\n",
    "        bill.write(\"*********************************************\\n\")\n",
    "        bill.write(f\"Your total bill is {totalbill}\\n\")\n",
    "        bill.close()  \n",
    "    itemno+=1"
   ]
  },
  {
   "cell_type": "code",
   "execution_count": 7,
   "id": "c987aace",
   "metadata": {},
   "outputs": [],
   "source": [
    "pricing_sales=0\n",
    "j=1001    \n",
    "while(j<1031):\n",
    "    \n",
    "    name1=(record[str(j)][\"Name\"])\n",
    "    \n",
    "    item_price=0\n",
    "    countt=list_for_tracking_sales.count(j)\n",
    "    pricing_sales+= record[str(j)][\"Price\"]*countt\n",
    "    \n",
    "    item_price=(record[str(j)][\"Price\"]*countt)\n",
    "    \n",
    "    if (countt>0):\n",
    "        sales=open(\"sales.txt\",\"a\")\n",
    "        sales.write(f\"Product name: {name1} - Quantity bought:{countt+1} - Price:{item_price} \\n\")\n",
    "        sales.close()\n",
    "    \n",
    "\n",
    "    if(j==1030):\n",
    "        sales=open(\"sales.txt\",\"a\")\n",
    "        sales.write(\"**************************************************************************\\n\")\n",
    "        sales.write(f\"Sales generated on {local_time} is of Rs- {pricing_sales} \\n\")\n",
    "        sales.write(\"**************************************************************************\\n\")\n",
    "        sales.close()\n",
    "\n",
    "    j+=1"
   ]
  },
  {
   "cell_type": "code",
   "execution_count": 8,
   "id": "f8db1245",
   "metadata": {},
   "outputs": [],
   "source": [
    "back_json=json.dumps(record)\n",
    "fd=open(\"item_records.json\",\"w\")\n",
    "fd.write(back_json)\n",
    "fd.close()"
   ]
  },
  {
   "cell_type": "code",
   "execution_count": 9,
   "id": "c2b57b19",
   "metadata": {},
   "outputs": [],
   "source": [
    "list_for_tracking_sales=[]\n"
   ]
  }
 ],
 "metadata": {
  "kernelspec": {
   "display_name": "Python 3",
   "language": "python",
   "name": "python3"
  },
  "language_info": {
   "codemirror_mode": {
    "name": "ipython",
    "version": 3
   },
   "file_extension": ".py",
   "mimetype": "text/x-python",
   "name": "python",
   "nbconvert_exporter": "python",
   "pygments_lexer": "ipython3",
   "version": "3.8.8"
  }
 },
 "nbformat": 4,
 "nbformat_minor": 5
}
