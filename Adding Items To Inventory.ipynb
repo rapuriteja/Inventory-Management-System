{
 "cells": [
  {
   "cell_type": "code",
   "execution_count": 1,
   "id": "434abaf2",
   "metadata": {},
   "outputs": [],
   "source": [
    "items= {1001:{\"Name\":\"Pasta\", \"Price\":70, \"Quantity\":30},\n",
    "        1002:{\"Name\":\"Rice\", \"Price\":50, \"Quantity\":41},\n",
    "        1003:{\"Name\":\"Bread\", \"Price\":60, \"Quantity\":10},\n",
    "        1004:{\"Name\":\"Porridge oats\", \"Price\":40, \"Quantity\":15},\n",
    "        1005:{\"Name\":\"Unsweetened granola\", \"Price\":70, \"Quantity\":16},\n",
    "        1006:{\"Name\":\"Salt\", \"Price\":52, \"Quantity\":74},\n",
    "        1007:{\"Name\":\"Basil\", \"Price\":45, \"Quantity\":12},\n",
    "        1008:{\"Name\":\"Oregano\", \"Price\":55, \"Quantity\":14},\n",
    "        1009:{\"Name\":\"Cumin\", \"Price\":85, \"Quantity\":40},\n",
    "        1010:{\"Name\":\"Honey\", \"Price\":47, \"Quantity\":52},\n",
    "        1011:{\"Name\":\"Vinegar\", \"Price\":14, \"Quantity\":41},\n",
    "        1012:{\"Name\":\"Sugar\", \"Price\":74, \"Quantity\":52},\n",
    "        1013:{\"Name\":\"Cooking oil\", \"Price\":41, \"Quantity\":41},\n",
    "        1014:{\"Name\":\"Butter\", \"Price\":74, \"Quantity\":12},\n",
    "        1015:{\"Name\":\"Milk\", \"Price\":42, \"Quantity\":32},\n",
    "        1016:{\"Name\":\"Eggs\", \"Price\":52, \"Quantity\":25},\n",
    "        1017:{\"Name\":\"Cheese\", \"Price\":75, \"Quantity\":32},\n",
    "        1018:{\"Name\":\"Yogurt\", \"Price\":92, \"Quantity\":41},\n",
    "        1019:{\"Name\":\"Pulses\", \"Price\":77, \"Quantity\":60},\n",
    "        1020:{\"Name\":\"Red kidney beans\", \"Price\":71, \"Quantity\":32},\n",
    "        1021:{\"Name\":\"White beans\", \"Price\":14, \"Quantity\":52},\n",
    "        1022:{\"Name\":\"Green lentils\", \"Price\":28, \"Quantity\":63},\n",
    "        1023:{\"Name\":\"Chopped tomatoes\", \"Price\":75, \"Quantity\":14},\n",
    "        1024:{\"Name\":\"nuts\", \"Price\":71, \"Quantity\":62},\n",
    "        1025:{\"Name\":\"Noodles\", \"Price\":75, \"Quantity\":31},\n",
    "        1026:{\"Name\":\"Frozen Corn\", \"Price\":62, \"Quantity\":23},\n",
    "        1027:{\"Name\":\"Frozen greenpeas\", \"Price\":98, \"Quantity\":62},\n",
    "        1028:{\"Name\":\"Olive Oli\", \"Price\":42, \"Quantity\":35},\n",
    "        1029:{\"Name\":\"Chocolate Syrup\", \"Price\":75, \"Quantity\":61},\n",
    "        1030:{\"Name\":\"Jam\", \"Price\":42, \"Quantity\":34},\n",
    "\n",
    "}"
   ]
  },
  {
   "cell_type": "markdown",
   "id": "259be651",
   "metadata": {},
   "source": [
    "##### Adding New items to Inventory"
   ]
  },
  {
   "cell_type": "code",
   "execution_count": 2,
   "id": "72929888",
   "metadata": {},
   "outputs": [
    {
     "name": "stdout",
     "output_type": "stream",
     "text": [
      "Enter Product Id:1031\n",
      "Enter Product Name:Coke\n",
      "Enter Product Price:40\n",
      "Enter Product Quantity:50\n"
     ]
    }
   ],
   "source": [
    "product_id=int(input(\"Enter Product Id:\"))\n",
    "name=str(input(\"Enter Product Name:\"))\n",
    "price=int(input(\"Enter Product Price:\"))\n",
    "quant=int(input(\"Enter Product Quantity:\"))"
   ]
  },
  {
   "cell_type": "markdown",
   "id": "d0cdf10c",
   "metadata": {},
   "source": [
    "##### Updating the inventory with newly added products"
   ]
  },
  {
   "cell_type": "code",
   "execution_count": 3,
   "id": "5695c9d4",
   "metadata": {},
   "outputs": [],
   "source": [
    "items[product_id]={\"Name\":name, \"Price\":price, \"Quantity\":quant}"
   ]
  },
  {
   "cell_type": "code",
   "execution_count": 4,
   "id": "b54d92c7",
   "metadata": {},
   "outputs": [
    {
     "data": {
      "text/plain": [
       "{1001: {'Name': 'Pasta', 'Price': 70, 'Quantity': 30},\n",
       " 1002: {'Name': 'Rice', 'Price': 50, 'Quantity': 41},\n",
       " 1003: {'Name': 'Bread', 'Price': 60, 'Quantity': 10},\n",
       " 1004: {'Name': 'Porridge oats', 'Price': 40, 'Quantity': 15},\n",
       " 1005: {'Name': 'Unsweetened granola', 'Price': 70, 'Quantity': 16},\n",
       " 1006: {'Name': 'Salt', 'Price': 52, 'Quantity': 74},\n",
       " 1007: {'Name': 'Basil', 'Price': 45, 'Quantity': 12},\n",
       " 1008: {'Name': 'Oregano', 'Price': 55, 'Quantity': 14},\n",
       " 1009: {'Name': 'Cumin', 'Price': 85, 'Quantity': 40},\n",
       " 1010: {'Name': 'Honey', 'Price': 47, 'Quantity': 52},\n",
       " 1011: {'Name': 'Vinegar', 'Price': 14, 'Quantity': 41},\n",
       " 1012: {'Name': 'Sugar', 'Price': 74, 'Quantity': 52},\n",
       " 1013: {'Name': 'Cooking oil', 'Price': 41, 'Quantity': 41},\n",
       " 1014: {'Name': 'Butter', 'Price': 74, 'Quantity': 12},\n",
       " 1015: {'Name': 'Milk', 'Price': 42, 'Quantity': 32},\n",
       " 1016: {'Name': 'Eggs', 'Price': 52, 'Quantity': 25},\n",
       " 1017: {'Name': 'Cheese', 'Price': 75, 'Quantity': 32},\n",
       " 1018: {'Name': 'Yogurt', 'Price': 92, 'Quantity': 41},\n",
       " 1019: {'Name': 'Pulses', 'Price': 77, 'Quantity': 60},\n",
       " 1020: {'Name': 'Red kidney beans', 'Price': 71, 'Quantity': 32},\n",
       " 1021: {'Name': 'White beans', 'Price': 14, 'Quantity': 52},\n",
       " 1022: {'Name': 'Green lentils', 'Price': 28, 'Quantity': 63},\n",
       " 1023: {'Name': 'Chopped tomatoes', 'Price': 75, 'Quantity': 14},\n",
       " 1024: {'Name': 'nuts', 'Price': 71, 'Quantity': 62},\n",
       " 1025: {'Name': 'Noodles', 'Price': 75, 'Quantity': 31},\n",
       " 1026: {'Name': 'Frozen Corn', 'Price': 62, 'Quantity': 23},\n",
       " 1027: {'Name': 'Frozen greenpeas', 'Price': 98, 'Quantity': 62},\n",
       " 1028: {'Name': 'Olive Oli', 'Price': 42, 'Quantity': 35},\n",
       " 1029: {'Name': 'Chocolate Syrup', 'Price': 75, 'Quantity': 61},\n",
       " 1030: {'Name': 'Jam', 'Price': 42, 'Quantity': 34},\n",
       " 1031: {'Name': 'Coke', 'Price': 40, 'Quantity': 50}}"
      ]
     },
     "execution_count": 4,
     "metadata": {},
     "output_type": "execute_result"
    }
   ],
   "source": [
    "items"
   ]
  },
  {
   "cell_type": "markdown",
   "id": "9f2a5d75",
   "metadata": {},
   "source": [
    "##### Item 1031 Had been Added to the Inventory"
   ]
  },
  {
   "cell_type": "markdown",
   "id": "ab7838fd",
   "metadata": {},
   "source": [
    "##### Updating the records.json file with newly added products"
   ]
  },
  {
   "cell_type": "code",
   "execution_count": 5,
   "id": "ded08eff",
   "metadata": {},
   "outputs": [],
   "source": [
    "import json\n",
    "items= json.dumps(items)\n",
    "fd=open(\"records.json\",\"w\")\n",
    "fd.write(items)\n",
    "fd.close()"
   ]
  },
  {
   "cell_type": "code",
   "execution_count": null,
   "id": "d56fd4c0",
   "metadata": {},
   "outputs": [],
   "source": []
  },
  {
   "cell_type": "code",
   "execution_count": null,
   "id": "6e747b33",
   "metadata": {},
   "outputs": [],
   "source": []
  }
 ],
 "metadata": {
  "kernelspec": {
   "display_name": "Python 3",
   "language": "python",
   "name": "python3"
  },
  "language_info": {
   "codemirror_mode": {
    "name": "ipython",
    "version": 3
   },
   "file_extension": ".py",
   "mimetype": "text/x-python",
   "name": "python",
   "nbconvert_exporter": "python",
   "pygments_lexer": "ipython3",
   "version": "3.8.8"
  }
 },
 "nbformat": 4,
 "nbformat_minor": 5
}
